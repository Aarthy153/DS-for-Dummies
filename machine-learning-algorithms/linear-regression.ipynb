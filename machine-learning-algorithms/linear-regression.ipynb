{
 "cells": [
  {
   "attachments": {},
   "cell_type": "markdown",
   "metadata": {},
   "source": [
    "# Linear regression from scratch"
   ]
  },
  {
   "attachments": {},
   "cell_type": "markdown",
   "metadata": {},
   "source": [
    "**$ y = b + \\sum_{i=0}^{n} w_{i}X_{i} $**\n",
    "    \n",
    "    \n",
    "where <br>\n",
    "- $y$ is Dependent variable, <br>\n",
    "- $X$ is/are Independent variable(s), <br>\n",
    "- $w$ is/are weight(s) of the model, <br>\n",
    "- and $b$ is the bias <br>\n"
   ]
  },
  {
   "attachments": {},
   "cell_type": "markdown",
   "metadata": {},
   "source": [
    "### Cost function:\n",
    "Mean-squared error: <br>\n",
    "$J(w, b) = \\frac{1}{n} \\sum_{i=0}^{n} (y_{i} - (b + wX_{i}))^2$"
   ]
  },
  {
   "attachments": {},
   "cell_type": "markdown",
   "metadata": {},
   "source": [
    "### Gradient Descent:\n",
    "Gradient Descent is an optimization algorithm used for minimizing the loss function in various machine learning algorithms. It is used for updating the parameters of the learning model.\n",
    "\n",
    "**$w_{i+1} = w_{i} - \\alpha D_{w_{i}}$** <br>\n",
    "**$b_{i+1} = b_{i} - \\alpha D_{b_{i}}$**\n",
    "\n",
    "where \n",
    "- $D_{w_{i}}$ is the partial derivative of the cost function with respect to $w$ in $i_{}^{th}$ iteration\n",
    "- $D_{b_{i}}$ is the partial derivative of the cost function with respect to $b$ in $i_{}^{th}$ iteration\n",
    "- $\\alpha$ is the learning rate of the model\n",
    "  "
   ]
  },
  {
   "attachments": {},
   "cell_type": "markdown",
   "metadata": {},
   "source": [
    "$D_{w} = \\frac{-2}{n} \\sum_{i=0}^{n} x_{i}(y_{i} - \\^y_{i})$ <br>\n",
    "$D_{b} = \\frac{-2}{n} \\sum_{i=0}^{n} (y_{i} - \\^y_{i})$"
   ]
  },
  {
   "attachments": {},
   "cell_type": "markdown",
   "metadata": {},
   "source": [
    "Learning rate is a tuning parameter in an optimization algorithm that determines the step size at each iteration while moving towards minima of the loss function "
   ]
  },
  {
   "cell_type": "code",
   "execution_count": 1,
   "metadata": {},
   "outputs": [],
   "source": [
    "import numpy as np"
   ]
  },
  {
   "cell_type": "code",
   "execution_count": 2,
   "metadata": {},
   "outputs": [],
   "source": [
    "class LinearRegression:\n",
    "    def __init__(self, learning_rate, epochs):\n",
    "        self.learning_rate = learning_rate\n",
    "        self.epochs = epochs\n",
    "\n",
    "    def fit(self, X, y):\n",
    "        self.m, self.n = X.shape\n",
    "        self.w = np.zeros(self.n)\n",
    "        self.b = 0\n",
    "        self.X = X\n",
    "        self.y = y\n",
    "\n",
    "        for _ in range(self.epochs):\n",
    "            self.update_weights()\n",
    "        \n",
    "    def update_weights(self):\n",
    "        y_preds = self.predict(self.X)\n",
    "        dw = -2 * (self.X.T).dot(self.y - y_preds) / self.m\n",
    "        db = -2 * np.sum(self.y - y_preds) / self.m\n",
    "\n",
    "        self.w -= self.learning_rate * dw\n",
    "        self.b -= self.learning_rate * db\n",
    "\n",
    "    def predict(self, X):\n",
    "        return X.dot(self.w) + self.b  "
   ]
  },
  {
   "cell_type": "code",
   "execution_count": 3,
   "metadata": {},
   "outputs": [],
   "source": [
    "import pandas as pd\n",
    "from sklearn.model_selection import train_test_split\n",
    "import matplotlib.pyplot as plt"
   ]
  },
  {
   "cell_type": "code",
   "execution_count": 4,
   "metadata": {},
   "outputs": [
    {
     "data": {
      "text/html": [
       "<div>\n",
       "<style scoped>\n",
       "    .dataframe tbody tr th:only-of-type {\n",
       "        vertical-align: middle;\n",
       "    }\n",
       "\n",
       "    .dataframe tbody tr th {\n",
       "        vertical-align: top;\n",
       "    }\n",
       "\n",
       "    .dataframe thead th {\n",
       "        text-align: right;\n",
       "    }\n",
       "</style>\n",
       "<table border=\"1\" class=\"dataframe\">\n",
       "  <thead>\n",
       "    <tr style=\"text-align: right;\">\n",
       "      <th></th>\n",
       "      <th>YearsExperience</th>\n",
       "      <th>Salary</th>\n",
       "    </tr>\n",
       "  </thead>\n",
       "  <tbody>\n",
       "    <tr>\n",
       "      <th>0</th>\n",
       "      <td>1.1</td>\n",
       "      <td>39343</td>\n",
       "    </tr>\n",
       "    <tr>\n",
       "      <th>1</th>\n",
       "      <td>1.3</td>\n",
       "      <td>46205</td>\n",
       "    </tr>\n",
       "    <tr>\n",
       "      <th>2</th>\n",
       "      <td>1.5</td>\n",
       "      <td>37731</td>\n",
       "    </tr>\n",
       "    <tr>\n",
       "      <th>3</th>\n",
       "      <td>2.0</td>\n",
       "      <td>43525</td>\n",
       "    </tr>\n",
       "    <tr>\n",
       "      <th>4</th>\n",
       "      <td>2.2</td>\n",
       "      <td>39891</td>\n",
       "    </tr>\n",
       "  </tbody>\n",
       "</table>\n",
       "</div>"
      ],
      "text/plain": [
       "   YearsExperience  Salary\n",
       "0              1.1   39343\n",
       "1              1.3   46205\n",
       "2              1.5   37731\n",
       "3              2.0   43525\n",
       "4              2.2   39891"
      ]
     },
     "execution_count": 4,
     "metadata": {},
     "output_type": "execute_result"
    }
   ],
   "source": [
    "salary_data = pd.read_csv('Dataset/salary_data.csv')\n",
    "salary_data.head()"
   ]
  },
  {
   "cell_type": "code",
   "execution_count": 5,
   "metadata": {},
   "outputs": [
    {
     "data": {
      "text/plain": [
       "(30, 2)"
      ]
     },
     "execution_count": 5,
     "metadata": {},
     "output_type": "execute_result"
    }
   ],
   "source": [
    "salary_data.shape"
   ]
  },
  {
   "cell_type": "code",
   "execution_count": 6,
   "metadata": {},
   "outputs": [
    {
     "data": {
      "text/plain": [
       "YearsExperience    0\n",
       "Salary             0\n",
       "dtype: int64"
      ]
     },
     "execution_count": 6,
     "metadata": {},
     "output_type": "execute_result"
    }
   ],
   "source": [
    "salary_data.isnull().sum()"
   ]
  },
  {
   "cell_type": "code",
   "execution_count": 7,
   "metadata": {},
   "outputs": [],
   "source": [
    "X = salary_data.iloc[:, :-1].values\n",
    "y = salary_data.iloc[:, -1].values"
   ]
  },
  {
   "cell_type": "code",
   "execution_count": 8,
   "metadata": {},
   "outputs": [
    {
     "data": {
      "text/plain": [
       "(array([[ 1.1],\n",
       "        [ 1.3],\n",
       "        [ 1.5],\n",
       "        [ 2. ],\n",
       "        [ 2.2],\n",
       "        [ 2.9],\n",
       "        [ 3. ],\n",
       "        [ 3.2],\n",
       "        [ 3.2],\n",
       "        [ 3.7],\n",
       "        [ 3.9],\n",
       "        [ 4. ],\n",
       "        [ 4. ],\n",
       "        [ 4.1],\n",
       "        [ 4.5],\n",
       "        [ 4.9],\n",
       "        [ 5.1],\n",
       "        [ 5.3],\n",
       "        [ 5.9],\n",
       "        [ 6. ],\n",
       "        [ 6.8],\n",
       "        [ 7.1],\n",
       "        [ 7.9],\n",
       "        [ 8.2],\n",
       "        [ 8.7],\n",
       "        [ 9. ],\n",
       "        [ 9.5],\n",
       "        [ 9.6],\n",
       "        [10.3],\n",
       "        [10.5]]),\n",
       " array([ 39343,  46205,  37731,  43525,  39891,  56642,  60150,  54445,\n",
       "         64445,  57189,  63218,  55794,  56957,  57081,  61111,  67938,\n",
       "         66029,  83088,  81363,  93940,  91738,  98273, 101302, 113812,\n",
       "        109431, 105582, 116969, 112635, 122391, 121872]))"
      ]
     },
     "execution_count": 8,
     "metadata": {},
     "output_type": "execute_result"
    }
   ],
   "source": [
    "X, y"
   ]
  },
  {
   "cell_type": "code",
   "execution_count": 9,
   "metadata": {},
   "outputs": [],
   "source": [
    "X_train, X_test, y_train, y_test = train_test_split(X, y, test_size=0.33, shuffle=True, random_state=2)"
   ]
  },
  {
   "cell_type": "code",
   "execution_count": 17,
   "metadata": {},
   "outputs": [],
   "source": [
    "model = LinearRegression(learning_rate=0.01, epochs=10000)\n"
   ]
  },
  {
   "cell_type": "code",
   "execution_count": 18,
   "metadata": {},
   "outputs": [],
   "source": [
    "model.fit(X_train, y_train)"
   ]
  },
  {
   "cell_type": "code",
   "execution_count": 19,
   "metadata": {},
   "outputs": [
    {
     "name": "stdout",
     "output_type": "stream",
     "text": [
      "Weight: [9512.94498763]\n",
      "Bias: 23707.813246574984\n"
     ]
    }
   ],
   "source": [
    "print(f'Weight: {model.w}\\nBias: {model.b}')"
   ]
  },
  {
   "cell_type": "code",
   "execution_count": 20,
   "metadata": {},
   "outputs": [],
   "source": [
    "test_data_preds = model.predict(X_test)"
   ]
  },
  {
   "cell_type": "code",
   "execution_count": 21,
   "metadata": {},
   "outputs": [
    {
     "name": "stdout",
     "output_type": "stream",
     "text": [
      "[ 36074.64173049  34172.05273297  66516.0656909   58905.7097008\n",
      "  91249.72265873  80785.48317234 101713.96214512  52246.64820946\n",
      "  42733.70322183  88395.83916244]\n"
     ]
    }
   ],
   "source": [
    "print(test_data_preds)"
   ]
  },
  {
   "cell_type": "code",
   "execution_count": 22,
   "metadata": {},
   "outputs": [
    {
     "name": "stdout",
     "output_type": "stream",
     "text": [
      "[ 46205  39343  61111  57189  98273  93940 113812  60150  43525  91738]\n"
     ]
    }
   ],
   "source": [
    "print(y_test)"
   ]
  },
  {
   "cell_type": "code",
   "execution_count": 25,
   "metadata": {},
   "outputs": [
    {
     "data": {
      "image/png": "[encoded data removed]",
      "text/plain": [
       "<Figure size 640x480 with 1 Axes>"
      ]
     },
     "metadata": {},
     "output_type": "display_data"
    }
   ],
   "source": [
    "plt.scatter(X_test, y_test, color='red')\n",
    "plt.plot(X_test, test_data_preds, color='green')\n",
    "plt.xlabel('Work experience')\n",
    "plt.ylabel('Salary')\n",
    "plt.title('Salary vs Years of Experience')\n",
    "plt.show()"
   ]
  }
 ],
 "metadata": {
  "kernelspec": {
   "display_name": "base",
   "language": "python",
   "name": "python3"
  },
  "language_info": {
   "codemirror_mode": {
    "name": "ipython",
    "version": 3
   },
   "file_extension": ".py",
   "mimetype": "text/x-python",
   "name": "python",
   "nbconvert_exporter": "python",
   "pygments_lexer": "ipython3",
   "version": "3.9.13"
  },
  "orig_nbformat": 4
 },
 "nbformat": 4,
 "nbformat_minor": 2
}

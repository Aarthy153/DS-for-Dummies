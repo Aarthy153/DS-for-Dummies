{
 "cells": [
  {
   "attachments": {},
   "cell_type": "markdown",
   "metadata": {},
   "source": [
    "# Logistic regression from scratch"
   ]
  },
  {
   "attachments": {},
   "cell_type": "markdown",
   "metadata": {},
   "source": [
    "$\\^y = \\frac{1}{1 + e^{-z}}$ &nbsp;&nbsp;&nbsp;&nbsp; $z = w.X + b$ <br>\n",
    "where\n",
    "- $\\^y$ is the predicted value\n",
    "- X is the input variable\n",
    "- w is the weight of the model\n",
    "- b is the bias of the model"
   ]
  },
  {
   "attachments": {},
   "cell_type": "markdown",
   "metadata": {},
   "source": [
    "### Cost function\n",
    "Binary cross-entropy cost function/Log-loss function: <br>\n",
    "$J(w, b) = \\frac{-1}{n} \\sum_{i=0}^{n} (y_{i}log\\^y_{i} + (1-y_{i})log(1-\\^y_{i}))$"
   ]
  },
  {
   "attachments": {},
   "cell_type": "markdown",
   "metadata": {},
   "source": [
    "### Gradient descent\n",
    "$w_{i+1} = w_{i} - \\alpha D_{w_{i}}$ <br>\n",
    "$b_{i+1} = b_{i} - \\alpha D_{b_{i}}$ <br>\n",
    "\n",
    "where\n",
    "- $D_{w}$ is the partial derivative of the cost function with respect to $w$\n",
    "- $D_{b}$ is the partial derivative of the cost function with respect to $b$\n",
    "- $\\alpha$ is the learning rate of the algorithm"
   ]
  },
  {
   "attachments": {},
   "cell_type": "markdown",
   "metadata": {},
   "source": [
    "$D_{w} = \\frac{1}{n} \\sum_{i=0}^{n} X_{i}(\\^y_{i} - y_{i})$ <br>\n",
    "$D_{b} = \\frac{1}{n} \\sum_{i=0}^{n} (\\^y_{i} - y_{i})$"
   ]
  },
  {
   "cell_type": "code",
   "execution_count": 1,
   "metadata": {},
   "outputs": [],
   "source": [
    "import numpy as np"
   ]
  },
  {
   "cell_type": "code",
   "execution_count": 2,
   "metadata": {},
   "outputs": [],
   "source": [
    "class LogisticRegression:\n",
    "    def __init__(self, learning_rate, epochs):\n",
    "        self.learning_rate = learning_rate\n",
    "        self.epochs = epochs\n",
    "\n",
    "    def fit(X, y):\n",
    "        self.m, self.n = X.shape\n",
    "        self.w = np.zeros(self.n)\n",
    "        self.b = 0\n",
    "        self.X = X\n",
    "    "
   ]
  },
  {
   "cell_type": "code",
   "execution_count": null,
   "metadata": {},
   "outputs": [],
   "source": []
  }
 ],
 "metadata": {
  "kernelspec": {
   "display_name": "base",
   "language": "python",
   "name": "python3"
  },
  "language_info": {
   "codemirror_mode": {
    "name": "ipython",
    "version": 3
   },
   "file_extension": ".py",
   "mimetype": "text/x-python",
   "name": "python",
   "nbconvert_exporter": "python",
   "pygments_lexer": "ipython3",
   "version": "3.9.13"
  },
  "orig_nbformat": 4
 },
 "nbformat": 4,
 "nbformat_minor": 2
}

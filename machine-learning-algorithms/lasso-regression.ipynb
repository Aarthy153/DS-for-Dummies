{
 "cells": [
  {
   "attachments": {},
   "cell_type": "markdown",
   "metadata": {},
   "source": [
    "# LASSO Regression\n",
    "- LASSO stands for **Least Absolute Shrinkage and Selection Operator**\n",
    "- It implements L1 Regularization over Linear Regression to reduce overfitting.\n",
    "- It also helps in **feature selection**."
   ]
  },
  {
   "attachments": {},
   "cell_type": "markdown",
   "metadata": {},
   "source": [
    "### Regularization\n",
    "- Regularization is used to reduce the overfitting of the model by adding a **penalty term($\\lambda$)** to the model.\n",
    "- The penalty term reduces the value of coefficients (*$w_i$*) or eliminates a few coefficients, so that the model has fewer coefficients. This process is called **shrinkage**"
   ]
  },
  {
   "attachments": {},
   "cell_type": "markdown",
   "metadata": {},
   "source": [
    "### Linear regression:\n",
    "- Equation of line: $\\^y = b + \\sum_{i=1}^{n}w_i.X_i$, where $n$ is number of parameters\n",
    "- Cost function: $J(w, b) = \\frac{1}{m} \\sum_{i=1}^{m}(y_i - \\^y_i)^2$"
   ]
  },
  {
   "attachments": {},
   "cell_type": "markdown",
   "metadata": {},
   "source": [
    "### Cost function for Lasso regression:\n",
    "$J(w, b) = \\frac{1}{m}((\\sum_{i=1}^{m}(y_i-\\^y_i)^2) + (\\lambda \\sum_{j=1}^{n}w_j))$ <br>\n",
    "where\n",
    "- $m$ is number of input datapoints\n",
    "- $n$ is number of features in the datapoints\n",
    "- $w_j$ is the j^th weight/parameter of the datapoints\n",
    "- $\\lambda$ is the penalty term"
   ]
  },
  {
   "attachments": {},
   "cell_type": "markdown",
   "metadata": {},
   "source": [
    "### Gradient Descent for Lasso regression\n",
    "$w_{i+1} = w_i - \\alpha \\frac{\\partial J}{\\partial w}$ <br><br>\n",
    "$b_{i+1} = b_i - \\alpha \\frac{\\partial J}{\\partial b}$ <br><br>\n",
    "\n",
    "$ \\frac{\\partial J}{\\partial w} = \\left\\{\n",
    "\\begin{array}{ll}\n",
    "    \\frac{-2}{m}((\\sum_{i=1}^{m}x_i(y_i-\\^y_i)) + \\lambda) & w_j > 0 \\\\ \\\\\n",
    "    \\frac{-2}{m}((\\sum_{i=1}^{m}x_i(y_i-\\^y_i)) - \\lambda) & w_j \\le 0 \\\\\n",
    "\\end{array}\n",
    "\\right.$ <br><br>\n",
    "\n",
    "$\\frac{\\partial J}{∂ b} = \\frac{-2}{m}\\sum_{i=1}^{m}(y_i - \\^y_i)$"
   ]
  },
  {
   "cell_type": "code",
   "execution_count": 1,
   "metadata": {},
   "outputs": [],
   "source": [
    "import numpy as np"
   ]
  },
  {
   "cell_type": "code",
   "execution_count": 2,
   "metadata": {},
   "outputs": [],
   "source": [
    "class LassoRegression:\n",
    "    def __init__(self, learning_rate, epochs, lambda_param):\n",
    "        self.learning_rate = learning_rate\n",
    "        self.epochs = epochs\n",
    "        self.lambda_param = lambda_param\n",
    "\n",
    "    def fit(self, X, y):\n",
    "        self.m, self.n = X.shape\n",
    "\n",
    "        self.w = np.zeros(self.n)\n",
    "        self.b = 0\n",
    "\n",
    "        self.X, self.y = X, y\n",
    "\n",
    "        for _ in range(self.epochs):\n",
    "            self.update_weights()\n",
    "    \n",
    "    def update_weights(self):\n",
    "        y_predictions = self.predict(self.X)\n",
    "        dw = np.zeros(self.n)\n",
    "\n",
    "        for i in range(self.n):\n",
    "            if self.w[i] > 0:\n",
    "                dw[i] = (-(2 * (self.X[:, i]).dot(self.y-y_predictions)) + self.lambda_param) / self.m\n",
    "            else:\n",
    "                dw[i] = (-(2 * (self.X[:, i]).dot(self.y-y_predictions)) - self.lambda_param) / self.m\n",
    "        \n",
    "        db = -2 * np.sum(self.y - y_predictions) / self.m\n",
    "\n",
    "        self.w -= self.learning_rate * dw\n",
    "        self.b -= self.learning_rate * db\n",
    "\n",
    "    def predict(self, X):\n",
    "        return X.dot(self.w) + self.b"
   ]
  },
  {
   "cell_type": "code",
   "execution_count": 11,
   "metadata": {},
   "outputs": [],
   "source": [
    "import pandas as pd\n",
    "from sklearn.model_selection import train_test_split\n",
    "import matplotlib.pyplot as plt\n",
    "from sklearn.metrics import r2_score, mean_absolute_error"
   ]
  },
  {
   "cell_type": "code",
   "execution_count": 4,
   "metadata": {},
   "outputs": [
    {
     "data": {
      "text/plain": [
       "(30, 2)"
      ]
     },
     "execution_count": 4,
     "metadata": {},
     "output_type": "execute_result"
    }
   ],
   "source": [
    "salary_data = pd.read_csv('Dataset/salary_data.csv')\n",
    "salary_data.shape"
   ]
  },
  {
   "cell_type": "code",
   "execution_count": 5,
   "metadata": {},
   "outputs": [
    {
     "data": {
      "text/plain": [
       "YearsExperience    0\n",
       "Salary             0\n",
       "dtype: int64"
      ]
     },
     "execution_count": 5,
     "metadata": {},
     "output_type": "execute_result"
    }
   ],
   "source": [
    "salary_data.isnull().sum()"
   ]
  },
  {
   "cell_type": "code",
   "execution_count": 6,
   "metadata": {},
   "outputs": [],
   "source": [
    "features = salary_data.iloc[:, :-1].values\n",
    "target = salary_data.iloc[:, -1].values"
   ]
  },
  {
   "cell_type": "code",
   "execution_count": 7,
   "metadata": {},
   "outputs": [],
   "source": [
    "X_train, X_test, y_train, y_test = train_test_split(features, target, test_size=0.33, shuffle=True)"
   ]
  },
  {
   "cell_type": "code",
   "execution_count": 8,
   "metadata": {},
   "outputs": [],
   "source": [
    "model = LassoRegression(learning_rate=0.01, epochs=1000, lambda_param=200)"
   ]
  },
  {
   "cell_type": "code",
   "execution_count": 9,
   "metadata": {},
   "outputs": [],
   "source": [
    "model.fit(X_train, y_train)"
   ]
  },
  {
   "cell_type": "code",
   "execution_count": 10,
   "metadata": {},
   "outputs": [],
   "source": [
    "test_data_prediction = model.predict(X_test)"
   ]
  },
  {
   "cell_type": "code",
   "execution_count": 12,
   "metadata": {},
   "outputs": [
    {
     "name": "stdout",
     "output_type": "stream",
     "text": [
      "R2 Score: 0.9155036511048205\n",
      "Mean absolute error: 5230.644271231723\n"
     ]
    }
   ],
   "source": [
    "score_1 = r2_score(y_test, test_data_prediction)\n",
    "score_2 = mean_absolute_error(y_test, test_data_prediction)\n",
    "\n",
    "print(f'R2 Score: {score_1}')\n",
    "print(f'Mean absolute error: {score_2}')"
   ]
  },
  {
   "cell_type": "code",
   "execution_count": 13,
   "metadata": {},
   "outputs": [
    {
     "data": {
      "image/png": "[encoded data removed]",
      "text/plain": [
       "<Figure size 640x480 with 1 Axes>"
      ]
     },
     "metadata": {},
     "output_type": "display_data"
    }
   ],
   "source": [
    "plt.scatter(X_train, y_train, color='blue')\n",
    "plt.scatter(X_test, y_test, color='red')\n",
    "plt.plot(X_train, model.predict(X_train), color='green')\n",
    "plt.scatter(X_test, test_data_prediction, color='orange')\n",
    "\n",
    "plt.show()"
   ]
  }
 ],
 "metadata": {
  "kernelspec": {
   "display_name": "base",
   "language": "python",
   "name": "python3"
  },
  "language_info": {
   "codemirror_mode": {
    "name": "ipython",
    "version": 3
   },
   "file_extension": ".py",
   "mimetype": "text/x-python",
   "name": "python",
   "nbconvert_exporter": "python",
   "pygments_lexer": "ipython3",
   "version": "3.9.13"
  },
  "orig_nbformat": 4
 },
 "nbformat": 4,
 "nbformat_minor": 2
}

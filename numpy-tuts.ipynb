{
 "cells": [
  {
   "cell_type": "markdown",
   "id": "e65002f6-b71f-4140-80aa-ff4f6c73709b",
   "metadata": {},
   "source": [
    "# Numpy Tutorial"
   ]
  },
  {
   "cell_type": "markdown",
   "id": "a3384c67-485d-4751-acb4-8ac5f6145b71",
   "metadata": {},
   "source": [
    "**NumPy**: Numerical Python\n",
    "\n",
    "**Advantages of NumPy**:\n",
    "1. Allows several mathematical operations\n",
    "2. Faster operations"
   ]
  },
  {
   "cell_type": "markdown",
   "id": "64ef97ba-9ba7-40a4-afd0-e64641531c4f",
   "metadata": {
    "jp-MarkdownHeadingCollapsed": true,
    "tags": []
   },
   "source": [
    "### Setup"
   ]
  },
  {
   "cell_type": "code",
   "execution_count": 47,
   "id": "fa94fd37-e235-4abb-8f53-6a17c0b34061",
   "metadata": {},
   "outputs": [
    {
     "name": "stdout",
     "output_type": "stream",
     "text": [
      "Requirement already satisfied: numpy in /home/anarok/anaconda3/envs/machine-learning/lib/python3.10/site-packages (1.23.3)\n"
     ]
    }
   ],
   "source": [
    "# download the library\n",
    "!pip install numpy"
   ]
  },
  {
   "cell_type": "code",
   "execution_count": 46,
   "id": "d9c55dfc-6f1f-4c8f-966e-40d5ceb39f2f",
   "metadata": {},
   "outputs": [],
   "source": [
    "# import the library\n",
    "import numpy as np"
   ]
  },
  {
   "cell_type": "markdown",
   "id": "f2d636a5-265b-4769-9449-9a826626326c",
   "metadata": {
    "jp-MarkdownHeadingCollapsed": true,
    "tags": []
   },
   "source": [
    "### NumPy speed"
   ]
  },
  {
   "cell_type": "code",
   "execution_count": 2,
   "id": "ad6f11af-5c44-4c85-8366-15995b6d07c7",
   "metadata": {},
   "outputs": [],
   "source": [
    "from time import process_time"
   ]
  },
  {
   "cell_type": "code",
   "execution_count": 5,
   "id": "b49cd954-b620-44c6-b632-5e73fea21622",
   "metadata": {},
   "outputs": [
    {
     "name": "stdout",
     "output_type": "stream",
     "text": [
      "0.06878739699999992\n"
     ]
    }
   ],
   "source": [
    "python_list = [i for i in range(1000000)]\n",
    "\n",
    "start_time = process_time()\n",
    "python_list = [i + 5 for i in python_list]\n",
    "\n",
    "end_time = process_time()\n",
    "\n",
    "print(end_time-start_time)"
   ]
  },
  {
   "cell_type": "code",
   "execution_count": 6,
   "id": "a8abd8cd-d367-4f20-8893-339849015848",
   "metadata": {},
   "outputs": [
    {
     "name": "stdout",
     "output_type": "stream",
     "text": [
      "0.001325765999999895\n"
     ]
    }
   ],
   "source": [
    "np_array = np.array([i for i in range(1000000)])\n",
    "\n",
    "start_time = process_time()\n",
    "np_array += 5\n",
    "\n",
    "end_time = process_time()\n",
    "\n",
    "print(end_time - start_time)"
   ]
  },
  {
   "cell_type": "markdown",
   "id": "f527bb03-bc7d-4943-9c62-803c550b4cd0",
   "metadata": {
    "jp-MarkdownHeadingCollapsed": true,
    "tags": []
   },
   "source": [
    "### NumPy array"
   ]
  },
  {
   "cell_type": "code",
   "execution_count": 7,
   "id": "6d2afecf-f325-4430-b3b2-c724f46d25bc",
   "metadata": {},
   "outputs": [
    {
     "name": "stdout",
     "output_type": "stream",
     "text": [
      "[1, 2, 3, 4, 5]\n"
     ]
    },
    {
     "data": {
      "text/plain": [
       "list"
      ]
     },
     "execution_count": 7,
     "metadata": {},
     "output_type": "execute_result"
    }
   ],
   "source": [
    "list1 = [1, 2, 3, 4, 5]\n",
    "print(list1)\n",
    "type(list1)"
   ]
  },
  {
   "cell_type": "code",
   "execution_count": 8,
   "id": "e4e42275-854f-44c9-9891-6907bb3c2985",
   "metadata": {},
   "outputs": [
    {
     "name": "stdout",
     "output_type": "stream",
     "text": [
      "[1 2 3 4 5]\n"
     ]
    },
    {
     "data": {
      "text/plain": [
       "numpy.ndarray"
      ]
     },
     "execution_count": 8,
     "metadata": {},
     "output_type": "execute_result"
    }
   ],
   "source": [
    "np_array = np.array([1, 2, 3, 4, 5])\n",
    "print(np_array)\n",
    "type(np_array)"
   ]
  },
  {
   "cell_type": "code",
   "execution_count": 9,
   "id": "735b16b0-d533-47b3-91cb-5d0b89c558f7",
   "metadata": {},
   "outputs": [
    {
     "name": "stdout",
     "output_type": "stream",
     "text": [
      "[1 2 3 4]\n",
      "(4,)\n"
     ]
    }
   ],
   "source": [
    "# Creating a 1D array\n",
    "a = np.array([1, 2, 3, 4])\n",
    "print(a)\n",
    "print(a.shape)"
   ]
  },
  {
   "cell_type": "code",
   "execution_count": 11,
   "id": "61de25fb-a5b5-402e-8a54-1f96dbab615f",
   "metadata": {},
   "outputs": [
    {
     "name": "stdout",
     "output_type": "stream",
     "text": [
      "[[1 2 3 4]\n",
      " [5 6 7 8]]\n",
      "(2, 4)\n"
     ]
    }
   ],
   "source": [
    "b = np.array([\n",
    "    [1, 2, 3, 4],\n",
    "    [5, 6, 7, 8],\n",
    "])\n",
    "\n",
    "print(b)\n",
    "print(b.shape)"
   ]
  },
  {
   "cell_type": "code",
   "execution_count": 14,
   "id": "6eb6d757-5a31-4cc6-8bb5-07bb4f28a043",
   "metadata": {},
   "outputs": [
    {
     "data": {
      "text/plain": [
       "(array([[1., 2., 3., 4.],\n",
       "        [5., 6., 7., 8.]]),\n",
       " (2, 4))"
      ]
     },
     "execution_count": 14,
     "metadata": {},
     "output_type": "execute_result"
    }
   ],
   "source": [
    " c = np.array([\n",
    "         [1, 2, 3, 4],\n",
    "         [5, 6, 7, 8],\n",
    "    ], dtype=float\n",
    ")\n",
    "c, c.shape"
   ]
  },
  {
   "cell_type": "markdown",
   "id": "582954a9-4171-46cf-8c42-9868e9e9cf4a",
   "metadata": {
    "jp-MarkdownHeadingCollapsed": true,
    "tags": []
   },
   "source": [
    "### Initial placeholders in NumPy arrays"
   ]
  },
  {
   "cell_type": "code",
   "execution_count": 15,
   "id": "88d1afb2-5428-430b-b36f-fad6723ab640",
   "metadata": {},
   "outputs": [
    {
     "data": {
      "text/plain": [
       "array([[0., 0., 0., 0., 0.],\n",
       "       [0., 0., 0., 0., 0.],\n",
       "       [0., 0., 0., 0., 0.],\n",
       "       [0., 0., 0., 0., 0.]])"
      ]
     },
     "execution_count": 15,
     "metadata": {},
     "output_type": "execute_result"
    }
   ],
   "source": [
    "x = np.zeros((4, 5))\n",
    "x"
   ]
  },
  {
   "cell_type": "code",
   "execution_count": 17,
   "id": "f3c56cb7-7333-432a-bca3-7a0de0c69b50",
   "metadata": {},
   "outputs": [
    {
     "data": {
      "text/plain": [
       "array([[1., 1., 1., 1.],\n",
       "       [1., 1., 1., 1.],\n",
       "       [1., 1., 1., 1.],\n",
       "       [1., 1., 1., 1.],\n",
       "       [1., 1., 1., 1.]])"
      ]
     },
     "execution_count": 17,
     "metadata": {},
     "output_type": "execute_result"
    }
   ],
   "source": [
    "y = np.ones((5, 4))\n",
    "y"
   ]
  },
  {
   "cell_type": "code",
   "execution_count": 19,
   "id": "5b47c125-e539-4575-9a6b-db933c380861",
   "metadata": {},
   "outputs": [
    {
     "data": {
      "text/plain": [
       "array([[1., 0., 0.],\n",
       "       [0., 1., 0.],\n",
       "       [0., 0., 1.]])"
      ]
     },
     "execution_count": 19,
     "metadata": {},
     "output_type": "execute_result"
    }
   ],
   "source": [
    "i = np.eye(3)\n",
    "i"
   ]
  },
  {
   "cell_type": "code",
   "execution_count": 21,
   "id": "6b5a0813-7886-4740-9886-97be8000565c",
   "metadata": {},
   "outputs": [
    {
     "data": {
      "text/plain": [
       "array([[5, 5, 5, 5],\n",
       "       [5, 5, 5, 5],\n",
       "       [5, 5, 5, 5],\n",
       "       [5, 5, 5, 5],\n",
       "       [5, 5, 5, 5]])"
      ]
     },
     "execution_count": 21,
     "metadata": {},
     "output_type": "execute_result"
    }
   ],
   "source": [
    "z = np.full((5, 4), 5)\n",
    "z"
   ]
  },
  {
   "cell_type": "code",
   "execution_count": 22,
   "id": "6e254f72-fe75-4bab-b672-cc2c76b0bdcb",
   "metadata": {},
   "outputs": [
    {
     "name": "stdout",
     "output_type": "stream",
     "text": [
      "[[0.70062755 0.9955023  0.62551732 0.86262794]\n",
      " [0.95015003 0.40806251 0.84725967 0.80584137]\n",
      " [0.87206182 0.47429077 0.24072186 0.51353841]]\n"
     ]
    }
   ],
   "source": [
    "# random values\n",
    "b = np.random.random((3, 4))\n",
    "print(b)"
   ]
  },
  {
   "cell_type": "code",
   "execution_count": 23,
   "id": "8cdcbd94-13a4-41fb-82b2-3582b77be38b",
   "metadata": {},
   "outputs": [],
   "source": [
    "# random integer values matrix within a specific range\n",
    "c = np.random.randint(10, 100, (3, 5))"
   ]
  },
  {
   "cell_type": "code",
   "execution_count": 24,
   "id": "4c2e99fd-8d71-49d6-8145-11a70557df00",
   "metadata": {},
   "outputs": [
    {
     "data": {
      "text/plain": [
       "array([[54, 92, 40, 51, 69],\n",
       "       [50, 34, 34, 46, 84],\n",
       "       [10, 87, 92, 26, 62]])"
      ]
     },
     "execution_count": 24,
     "metadata": {},
     "output_type": "execute_result"
    }
   ],
   "source": [
    "c"
   ]
  },
  {
   "cell_type": "code",
   "execution_count": 26,
   "id": "5922657b-4d72-4ec8-8ab6-8545b826b063",
   "metadata": {},
   "outputs": [
    {
     "data": {
      "text/plain": [
       "array([10., 15., 20., 25., 30.])"
      ]
     },
     "execution_count": 26,
     "metadata": {},
     "output_type": "execute_result"
    }
   ],
   "source": [
    "# array of evenly spaced values --> specify number of values\n",
    "d = np.linspace(10, 30, 5)\n",
    "d"
   ]
  },
  {
   "cell_type": "code",
   "execution_count": 27,
   "id": "cdace8df-333e-4696-9dbf-580754d2f958",
   "metadata": {},
   "outputs": [
    {
     "data": {
      "text/plain": [
       "array([10, 16, 22, 28])"
      ]
     },
     "execution_count": 27,
     "metadata": {},
     "output_type": "execute_result"
    }
   ],
   "source": [
    "# array of evenly spaced values --> specify step\n",
    "e = np.arange(10, 30, 6)\n",
    "e"
   ]
  },
  {
   "cell_type": "code",
   "execution_count": 28,
   "id": "a57d42d2-f869-4a1c-9bc1-53232805111a",
   "metadata": {},
   "outputs": [
    {
     "data": {
      "text/plain": [
       "array([[10, 20, 30, 40],\n",
       "       [50, 50, 60, 70]])"
      ]
     },
     "execution_count": 28,
     "metadata": {},
     "output_type": "execute_result"
    }
   ],
   "source": [
    "# convert a list to NumPy array\n",
    "list2 = [[10, 20, 30, 40], [50, 50, 60, 70]]\n",
    "np_array2 = np.asarray(list2)\n",
    "np_array2"
   ]
  },
  {
   "cell_type": "markdown",
   "id": "4325a497-85b6-427f-9113-7a5e2d19635d",
   "metadata": {
    "jp-MarkdownHeadingCollapsed": true,
    "tags": []
   },
   "source": [
    "### Analyzing a NumPy array"
   ]
  },
  {
   "cell_type": "code",
   "execution_count": 29,
   "id": "5e04736c-8a0a-40b6-b8a8-3cab2e632c09",
   "metadata": {},
   "outputs": [
    {
     "name": "stdout",
     "output_type": "stream",
     "text": [
      "[[37 10 26 15 74]\n",
      " [78 28 30 27 87]\n",
      " [66 28 41 28 69]\n",
      " [78 11 69 77 43]\n",
      " [32 75 33 56 77]]\n"
     ]
    }
   ],
   "source": [
    "c = np.random.randint(10, 90, (5, 5))\n",
    "print(c)"
   ]
  },
  {
   "cell_type": "code",
   "execution_count": 30,
   "id": "8a7b0758-2dd7-40e7-9d32-4d7f17ea606f",
   "metadata": {},
   "outputs": [
    {
     "name": "stdout",
     "output_type": "stream",
     "text": [
      "(5, 5)\n"
     ]
    }
   ],
   "source": [
    "# array dimensions\n",
    "print(c.shape)"
   ]
  },
  {
   "cell_type": "code",
   "execution_count": 31,
   "id": "13ab5bdf-66f6-4cf2-9155-10bc1cd4bef7",
   "metadata": {},
   "outputs": [
    {
     "name": "stdout",
     "output_type": "stream",
     "text": [
      "2\n"
     ]
    }
   ],
   "source": [
    "# number of dimensions\n",
    "print(c.ndim)"
   ]
  },
  {
   "cell_type": "code",
   "execution_count": 32,
   "id": "628c5768-e134-490f-bc20-99ba7ffdab1f",
   "metadata": {},
   "outputs": [
    {
     "name": "stdout",
     "output_type": "stream",
     "text": [
      "25\n"
     ]
    }
   ],
   "source": [
    "# number of elements in a matrix\n",
    "print(c.size)"
   ]
  },
  {
   "cell_type": "code",
   "execution_count": 33,
   "id": "b0cb0f7e-ad88-4bdc-9a6a-10f9101bb275",
   "metadata": {},
   "outputs": [
    {
     "name": "stdout",
     "output_type": "stream",
     "text": [
      "int64\n"
     ]
    }
   ],
   "source": [
    "# checking the datatype of values in the array\n",
    "print(c.dtype)"
   ]
  },
  {
   "cell_type": "markdown",
   "id": "d985997d-cd0a-4011-a7af-efbae34ebc9f",
   "metadata": {
    "jp-MarkdownHeadingCollapsed": true,
    "tags": []
   },
   "source": [
    "### Mathematical operations"
   ]
  },
  {
   "cell_type": "code",
   "execution_count": 34,
   "id": "bddd26c2-cd76-46c4-b4ca-aeb2205992e3",
   "metadata": {},
   "outputs": [
    {
     "name": "stdout",
     "output_type": "stream",
     "text": [
      "[1, 2, 3, 4, 5, 6, 7, 8, 9, 10]\n"
     ]
    }
   ],
   "source": [
    "list1 = [1, 2, 3, 4, 5]\n",
    "list2 = [6, 7, 8, 9, 10]\n",
    "\n",
    "print(list1 + list2) # list concatenation"
   ]
  },
  {
   "cell_type": "code",
   "execution_count": 35,
   "id": "acec1b5b-ee94-4ed0-a84c-306c62adf438",
   "metadata": {},
   "outputs": [
    {
     "name": "stdout",
     "output_type": "stream",
     "text": [
      "[[7 2 1]\n",
      " [0 2 0]\n",
      " [2 3 8]]\n",
      "[[ 1  4  2]\n",
      " [10  4  9]\n",
      " [ 3 19  8]]\n"
     ]
    }
   ],
   "source": [
    "a = np.random.randint(0, 10, (3, 3))\n",
    "b = np.random.randint(0, 20, (3, 3))\n",
    "\n",
    "print(a, b, sep='\\n')"
   ]
  },
  {
   "cell_type": "code",
   "execution_count": 37,
   "id": "df87105f-2659-4f70-b5ca-16f06cdb1daf",
   "metadata": {},
   "outputs": [
    {
     "name": "stdout",
     "output_type": "stream",
     "text": [
      "[[ 8  6  3]\n",
      " [10  6  9]\n",
      " [ 5 22 16]]\n",
      "[[  6  -2  -1]\n",
      " [-10  -2  -9]\n",
      " [ -1 -16   0]]\n",
      "[[ 7  8  2]\n",
      " [ 0  8  0]\n",
      " [ 6 57 64]]\n",
      "[[7.         0.5        0.5       ]\n",
      " [0.         0.5        0.        ]\n",
      " [0.66666667 0.15789474 1.        ]]\n"
     ]
    }
   ],
   "source": [
    "print(a+b) # element wise addition\n",
    "print(a-b) # element wise subtraction\n",
    "print(a*b) # element wise multiplication\n",
    "print(a/b) # element wise division"
   ]
  },
  {
   "cell_type": "code",
   "execution_count": 38,
   "id": "c6b34c4b-a361-4856-9de4-0cbd4d48f5e1",
   "metadata": {},
   "outputs": [
    {
     "name": "stdout",
     "output_type": "stream",
     "text": [
      "[[7 2 1]\n",
      " [0 2 0]\n",
      " [2 3 8]]\n",
      "[[ 1  4  2]\n",
      " [10  4  9]\n",
      " [ 3 19  8]]\n"
     ]
    }
   ],
   "source": [
    "print(a)\n",
    "print(b)"
   ]
  },
  {
   "cell_type": "code",
   "execution_count": 39,
   "id": "f4e682c7-aebd-417a-ab75-02d28b024eb9",
   "metadata": {},
   "outputs": [
    {
     "name": "stdout",
     "output_type": "stream",
     "text": [
      "[[ 8  6  3]\n",
      " [10  6  9]\n",
      " [ 5 22 16]]\n",
      "[[7 2 1]\n",
      " [0 2 0]\n",
      " [2 3 8]]\n"
     ]
    }
   ],
   "source": [
    "print(np.add(a, b)) # element wise addition\n",
    "print(a)"
   ]
  },
  {
   "cell_type": "code",
   "execution_count": 40,
   "id": "2e647dc0-03dd-42f5-bce4-0f9c4fbb2181",
   "metadata": {},
   "outputs": [
    {
     "name": "stdout",
     "output_type": "stream",
     "text": [
      "[[  6  -2  -1]\n",
      " [-10  -2  -9]\n",
      " [ -1 -16   0]]\n",
      "[[ 7  8  2]\n",
      " [ 0  8  0]\n",
      " [ 6 57 64]]\n",
      "[[7.         0.5        0.5       ]\n",
      " [0.         0.5        0.        ]\n",
      " [0.66666667 0.15789474 1.        ]]\n"
     ]
    }
   ],
   "source": [
    "print(np.subtract(a, b))\n",
    "print(np.multiply(a, b))\n",
    "print(np.divide(a, b))"
   ]
  },
  {
   "cell_type": "markdown",
   "id": "419c72e8-3a54-4be6-9da8-9795ca2fc820",
   "metadata": {
    "jp-MarkdownHeadingCollapsed": true,
    "tags": []
   },
   "source": [
    "### Array manipultion"
   ]
  },
  {
   "cell_type": "code",
   "execution_count": 41,
   "id": "71ea94c8-b986-43c5-9dc1-149394913059",
   "metadata": {},
   "outputs": [
    {
     "name": "stdout",
     "output_type": "stream",
     "text": [
      "[[9 4 3]\n",
      " [3 4 0]]\n",
      "(2, 3)\n"
     ]
    }
   ],
   "source": [
    "array = np.random.randint(0, 10, (2, 3))\n",
    "print(array)\n",
    "print(array.shape)"
   ]
  },
  {
   "cell_type": "code",
   "execution_count": 42,
   "id": "9ffdbe83-b1b6-476a-bd25-f8a65b1aa682",
   "metadata": {},
   "outputs": [
    {
     "name": "stdout",
     "output_type": "stream",
     "text": [
      "[[9 3]\n",
      " [4 4]\n",
      " [3 0]]\n"
     ]
    }
   ],
   "source": [
    "# transpose\n",
    "array_transpose = np.transpose(array)\n",
    "print(array_transpose)"
   ]
  },
  {
   "cell_type": "code",
   "execution_count": 43,
   "id": "40f1c2aa-40a0-4f76-8766-7e0172e25a40",
   "metadata": {},
   "outputs": [
    {
     "name": "stdout",
     "output_type": "stream",
     "text": [
      "(3, 2)\n"
     ]
    }
   ],
   "source": [
    "array_transpose2 = array.T\n",
    "print(array_transpose2.shape)"
   ]
  },
  {
   "cell_type": "code",
   "execution_count": 44,
   "id": "87f31ae5-c51d-46d8-908a-73e46240496a",
   "metadata": {},
   "outputs": [
    {
     "name": "stdout",
     "output_type": "stream",
     "text": [
      "[[2 6 8]\n",
      " [6 8 1]]\n",
      "(2, 3)\n"
     ]
    }
   ],
   "source": [
    "# reshaping an array\n",
    "a = np.random.randint(0, 10, (2, 3))\n",
    "print(a)\n",
    "print(a.shape)"
   ]
  },
  {
   "cell_type": "code",
   "execution_count": 45,
   "id": "f2a7a0bd-95dc-4c08-ba4c-05ae9f6b1e5d",
   "metadata": {},
   "outputs": [
    {
     "name": "stdout",
     "output_type": "stream",
     "text": [
      "[[2 6]\n",
      " [8 6]\n",
      " [8 1]]\n",
      "(3, 2)\n"
     ]
    }
   ],
   "source": [
    "b = a.reshape(3, 2)\n",
    "print(b)\n",
    "print(b.shape)"
   ]
  }
 ],
 "metadata": {
  "kernelspec": {
   "display_name": "Python 3 (ipykernel)",
   "language": "python",
   "name": "python3"
  },
  "language_info": {
   "codemirror_mode": {
    "name": "ipython",
    "version": 3
   },
   "file_extension": ".py",
   "mimetype": "text/x-python",
   "name": "python",
   "nbconvert_exporter": "python",
   "pygments_lexer": "ipython3",
   "version": "3.10.6"
  }
 },
 "nbformat": 4,
 "nbformat_minor": 5
}

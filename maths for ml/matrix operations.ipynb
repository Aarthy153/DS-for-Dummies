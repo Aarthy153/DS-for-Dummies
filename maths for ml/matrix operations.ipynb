{
 "cells": [
  {
   "cell_type": "markdown",
   "source": [
    "# Matrix Operations"
   ],
   "metadata": {
    "collapsed": false
   }
  },
  {
   "cell_type": "code",
   "execution_count": 1,
   "outputs": [],
   "source": [
    "import numpy as np"
   ],
   "metadata": {
    "collapsed": false
   }
  },
  {
   "cell_type": "markdown",
   "source": [
    "### Matrix addition"
   ],
   "metadata": {
    "collapsed": false
   }
  },
  {
   "cell_type": "code",
   "execution_count": 3,
   "outputs": [
    {
     "data": {
      "text/plain": "array([[ 8, 10],\n       [12, 14]])"
     },
     "execution_count": 3,
     "metadata": {},
     "output_type": "execute_result"
    }
   ],
   "source": [
    "A = np.array([\n",
    "    [2, 3],\n",
    "    [4, 5],\n",
    "])\n",
    "\n",
    "B = np.array([\n",
    "    [6, 7],\n",
    "    [8, 9],\n",
    "])\n",
    "\n",
    "A + B"
   ],
   "metadata": {
    "collapsed": false
   }
  },
  {
   "cell_type": "markdown",
   "source": [
    "### Matrix subtraction"
   ],
   "metadata": {
    "collapsed": false
   }
  },
  {
   "cell_type": "code",
   "execution_count": 4,
   "outputs": [
    {
     "data": {
      "text/plain": "array([[-4, -4],\n       [-4, -4]])"
     },
     "execution_count": 4,
     "metadata": {},
     "output_type": "execute_result"
    }
   ],
   "source": [
    "A = np.array([\n",
    "    [2, 3],\n",
    "    [4, 5],\n",
    "])\n",
    "\n",
    "B = np.array([\n",
    "    [6, 7],\n",
    "    [8, 9],\n",
    "])\n",
    "\n",
    "A - B"
   ],
   "metadata": {
    "collapsed": false
   }
  },
  {
   "cell_type": "markdown",
   "source": [
    "### Dimensions of a matrix"
   ],
   "metadata": {
    "collapsed": false
   }
  },
  {
   "cell_type": "code",
   "execution_count": 5,
   "outputs": [
    {
     "data": {
      "text/plain": "(2, 2)"
     },
     "execution_count": 5,
     "metadata": {},
     "output_type": "execute_result"
    }
   ],
   "source": [
    "A.shape"
   ],
   "metadata": {
    "collapsed": false
   }
  },
  {
   "cell_type": "markdown",
   "source": [
    "### Create a matrix with random values"
   ],
   "metadata": {
    "collapsed": false
   }
  },
  {
   "cell_type": "code",
   "execution_count": 11,
   "outputs": [
    {
     "name": "stdout",
     "output_type": "stream",
     "text": [
      "[[5 4 9]\n",
      " [1 4 6]\n",
      " [6 8 7]]\n",
      "[[ 2 11  8]\n",
      " [ 7 14 14]\n",
      " [ 1  8 11]]\n"
     ]
    }
   ],
   "source": [
    "mat1 = np.random.randint(10, size=(3, 3))\n",
    "mat2 = np.random.randint(20, size=(3, 3))\n",
    "print(mat1, mat2, sep='\\n')"
   ],
   "metadata": {
    "collapsed": false
   }
  },
  {
   "cell_type": "code",
   "execution_count": 12,
   "outputs": [
    {
     "name": "stdout",
     "output_type": "stream",
     "text": [
      "[[ 7 15 17]\n",
      " [ 8 18 20]\n",
      " [ 7 16 18]]\n",
      "[[  3  -7   1]\n",
      " [ -6 -10  -8]\n",
      " [  5   0  -4]]\n"
     ]
    }
   ],
   "source": [
    "print(np.add(mat1, mat2))\n",
    "print(np.subtract(mat1, mat2))"
   ],
   "metadata": {
    "collapsed": false
   }
  },
  {
   "cell_type": "markdown",
   "source": [
    "### Multiplication"
   ],
   "metadata": {
    "collapsed": false
   }
  },
  {
   "cell_type": "code",
   "execution_count": 15,
   "outputs": [
    {
     "name": "stdout",
     "output_type": "stream",
     "text": [
      "[[4 0 1]\n",
      " [1 0 3]\n",
      " [3 2 1]]\n",
      "[[20  0  5]\n",
      " [ 5  0 15]\n",
      " [15 10  5]]\n",
      "[[20  0  5]\n",
      " [ 5  0 15]\n",
      " [15 10  5]]\n"
     ]
    }
   ],
   "source": [
    "# Multiplying a matrix by a scaler\n",
    "x = 5\n",
    "X = np.random.randint(5, size=(3, 3))\n",
    "\n",
    "print(X)\n",
    "print(x * X)\n",
    "print(np.multiply(x, X))"
   ],
   "metadata": {
    "collapsed": false
   }
  },
  {
   "cell_type": "code",
   "execution_count": 18,
   "outputs": [
    {
     "name": "stdout",
     "output_type": "stream",
     "text": [
      "[[8 4 7]\n",
      " [3 5 9]\n",
      " [1 9 7]]\n",
      "[[8. 0. 0.]\n",
      " [0. 5. 0.]\n",
      " [0. 0. 7.]]\n"
     ]
    }
   ],
   "source": [
    "# Multiplying two matrices element wise:\n",
    "X = np.random.randint(10, size=(3,3))\n",
    "I = np.eye(3, 3)\n",
    "print(X)\n",
    "print(np.multiply(X, I))"
   ],
   "metadata": {
    "collapsed": false
   }
  },
  {
   "cell_type": "code",
   "execution_count": 19,
   "outputs": [
    {
     "name": "stdout",
     "output_type": "stream",
     "text": [
      "[[8. 4. 7.]\n",
      " [3. 5. 9.]\n",
      " [1. 9. 7.]]\n"
     ]
    }
   ],
   "source": [
    "# Matrix multiplication\n",
    "print(np.matmul(X, I))"
   ],
   "metadata": {
    "collapsed": false
   }
  },
  {
   "cell_type": "code",
   "execution_count": 20,
   "outputs": [
    {
     "name": "stdout",
     "output_type": "stream",
     "text": [
      "[[116  70 117  50]\n",
      " [126  68  91  56]\n",
      " [140  54 101  78]]\n"
     ]
    }
   ],
   "source": [
    "Y = np.random.randint(10, size=(3, 4))\n",
    "print(np.matmul(X, Y))"
   ],
   "metadata": {
    "collapsed": false
   }
  },
  {
   "cell_type": "code",
   "execution_count": 21,
   "outputs": [
    {
     "name": "stdout",
     "output_type": "stream",
     "text": [
      "[[116  70 117  50]\n",
      " [126  68  91  56]\n",
      " [140  54 101  78]]\n"
     ]
    }
   ],
   "source": [
    "print(np.dot(X, Y))"
   ],
   "metadata": {
    "collapsed": false
   }
  },
  {
   "cell_type": "code",
   "execution_count": null,
   "outputs": [],
   "source": [],
   "metadata": {
    "collapsed": false
   }
  }
 ],
 "metadata": {
  "kernelspec": {
   "display_name": "Python 3",
   "language": "python",
   "name": "python3"
  },
  "language_info": {
   "codemirror_mode": {
    "name": "ipython",
    "version": 2
   },
   "file_extension": ".py",
   "mimetype": "text/x-python",
   "name": "python",
   "nbconvert_exporter": "python",
   "pygments_lexer": "ipython2",
   "version": "2.7.6"
  }
 },
 "nbformat": 4,
 "nbformat_minor": 0
}

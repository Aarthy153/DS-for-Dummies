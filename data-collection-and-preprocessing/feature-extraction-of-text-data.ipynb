{
 "cells": [
  {
   "cell_type": "markdown",
   "source": [
    "# Feature extraction\n",
    "#### The mapping from textual data to real-valued vectors is called **feature extraction**\n",
    "\n",
    "- ### **Bag of Words (BoW)**: List of unique words in the text corpus(collection of words).\n",
    "- ### **Term Frequency-Inverse Document Frequency (TF-IDF)**: To count the number of times each word appears in a document."
   ],
   "metadata": {
    "collapsed": false
   }
  },
  {
   "cell_type": "markdown",
   "source": [
    "## TF-IDF Vectorizer\n",
    "\n",
    "- **Term Frequency (TF)**: ``(No. of times term `t` appears in a document) / (No. of terms in the document)``.\n",
    "- **Inverse Document Frequency (IDF)**: `log(N/n)`, where `N` is the number of documents and `n` is the number of documents a term t has appeared in\n",
    "    - The IDF value of a rare word is high, whereas the IDF of a frequent word is low\n",
    "\n",
    "-> **TF-IDF** value of a term = `TF` * `IDF`"
   ],
   "metadata": {
    "collapsed": false
   }
  },
  {
   "cell_type": "code",
   "execution_count": 1,
   "outputs": [],
   "source": [
    "import numpy as np\n",
    "import pandas as pd\n",
    "from sklearn.feature_extraction.text import TfidfVectorizer"
   ],
   "metadata": {
    "collapsed": false
   }
  },
  {
   "cell_type": "code",
   "execution_count": 2,
   "outputs": [
    {
     "name": "stdout",
     "output_type": "stream",
     "text": [
      "(20800, 5)\n",
      "          id                                              title  \\\n",
      "0          0  House Dem Aide: We Didn’t Even See Comey’s Let...   \n",
      "1          1  FLYNN: Hillary Clinton, Big Woman on Campus - ...   \n",
      "2          2                  Why the Truth Might Get You Fired   \n",
      "3          3  15 Civilians Killed In Single US Airstrike Hav...   \n",
      "4          4  Iranian woman jailed for fictional unpublished...   \n",
      "...      ...                                                ...   \n",
      "20795  20795  Rapper T.I.: Trump a ’Poster Child For White S...   \n",
      "20796  20796  N.F.L. Playoffs: Schedule, Matchups and Odds -...   \n",
      "20797  20797  Macy’s Is Said to Receive Takeover Approach by...   \n",
      "20798  20798  NATO, Russia To Hold Parallel Exercises In Bal...   \n",
      "20799  20799                          What Keeps the F-35 Alive   \n",
      "\n",
      "                                          author  \\\n",
      "0                                  Darrell Lucus   \n",
      "1                                Daniel J. Flynn   \n",
      "2                             Consortiumnews.com   \n",
      "3                                Jessica Purkiss   \n",
      "4                                 Howard Portnoy   \n",
      "...                                          ...   \n",
      "20795                              Jerome Hudson   \n",
      "20796                           Benjamin Hoffman   \n",
      "20797  Michael J. de la Merced and Rachel Abrams   \n",
      "20798                                Alex Ansary   \n",
      "20799                              David Swanson   \n",
      "\n",
      "                                                    text  label  \n",
      "0      House Dem Aide: We Didn’t Even See Comey’s Let...      1  \n",
      "1      Ever get the feeling your life circles the rou...      0  \n",
      "2      Why the Truth Might Get You Fired October 29, ...      1  \n",
      "3      Videos 15 Civilians Killed In Single US Airstr...      1  \n",
      "4      Print \\nAn Iranian woman has been sentenced to...      1  \n",
      "...                                                  ...    ...  \n",
      "20795  Rapper T. I. unloaded on black celebrities who...      0  \n",
      "20796  When the Green Bay Packers lost to the Washing...      0  \n",
      "20797  The Macy’s of today grew from the union of sev...      0  \n",
      "20798  NATO, Russia To Hold Parallel Exercises In Bal...      1  \n",
      "20799    David Swanson is an author, activist, journa...      1  \n",
      "\n",
      "[20800 rows x 5 columns]\n"
     ]
    }
   ],
   "source": [
    "df = pd.read_csv('Dataset/fake_news.csv')\n",
    "print(df.shape)\n",
    "print(df)"
   ],
   "metadata": {
    "collapsed": false
   }
  },
  {
   "cell_type": "code",
   "execution_count": 3,
   "outputs": [
    {
     "data": {
      "text/plain": "id           0\ntitle      558\nauthor    1957\ntext        39\nlabel        0\ndtype: int64"
     },
     "execution_count": 3,
     "metadata": {},
     "output_type": "execute_result"
    }
   ],
   "source": [
    "df.isnull().sum()"
   ],
   "metadata": {
    "collapsed": false
   }
  },
  {
   "cell_type": "code",
   "execution_count": 4,
   "outputs": [
    {
     "data": {
      "text/plain": "          id                                              title  \\\n0          0  House Dem Aide: We Didn’t Even See Comey’s Let...   \n1          1  FLYNN: Hillary Clinton, Big Woman on Campus - ...   \n2          2                  Why the Truth Might Get You Fired   \n3          3  15 Civilians Killed In Single US Airstrike Hav...   \n4          4  Iranian woman jailed for fictional unpublished...   \n...      ...                                                ...   \n20795  20795  Rapper T.I.: Trump a ’Poster Child For White S...   \n20796  20796  N.F.L. Playoffs: Schedule, Matchups and Odds -...   \n20797  20797  Macy’s Is Said to Receive Takeover Approach by...   \n20798  20798  NATO, Russia To Hold Parallel Exercises In Bal...   \n20799  20799                          What Keeps the F-35 Alive   \n\n                                          author  \\\n0                                  Darrell Lucus   \n1                                Daniel J. Flynn   \n2                             Consortiumnews.com   \n3                                Jessica Purkiss   \n4                                 Howard Portnoy   \n...                                          ...   \n20795                              Jerome Hudson   \n20796                           Benjamin Hoffman   \n20797  Michael J. de la Merced and Rachel Abrams   \n20798                                Alex Ansary   \n20799                              David Swanson   \n\n                                                    text  label  \n0      House Dem Aide: We Didn’t Even See Comey’s Let...      1  \n1      Ever get the feeling your life circles the rou...      0  \n2      Why the Truth Might Get You Fired October 29, ...      1  \n3      Videos 15 Civilians Killed In Single US Airstr...      1  \n4      Print \\nAn Iranian woman has been sentenced to...      1  \n...                                                  ...    ...  \n20795  Rapper T. I. unloaded on black celebrities who...      0  \n20796  When the Green Bay Packers lost to the Washing...      0  \n20797  The Macy’s of today grew from the union of sev...      0  \n20798  NATO, Russia To Hold Parallel Exercises In Bal...      1  \n20799    David Swanson is an author, activist, journa...      1  \n\n[20800 rows x 5 columns]",
      "text/html": "<div>\n<style scoped>\n    .dataframe tbody tr th:only-of-type {\n        vertical-align: middle;\n    }\n\n    .dataframe tbody tr th {\n        vertical-align: top;\n    }\n\n    .dataframe thead th {\n        text-align: right;\n    }\n</style>\n<table border=\"1\" class=\"dataframe\">\n  <thead>\n    <tr style=\"text-align: right;\">\n      <th></th>\n      <th>id</th>\n      <th>title</th>\n      <th>author</th>\n      <th>text</th>\n      <th>label</th>\n    </tr>\n  </thead>\n  <tbody>\n    <tr>\n      <th>0</th>\n      <td>0</td>\n      <td>House Dem Aide: We Didn’t Even See Comey’s Let...</td>\n      <td>Darrell Lucus</td>\n      <td>House Dem Aide: We Didn’t Even See Comey’s Let...</td>\n      <td>1</td>\n    </tr>\n    <tr>\n      <th>1</th>\n      <td>1</td>\n      <td>FLYNN: Hillary Clinton, Big Woman on Campus - ...</td>\n      <td>Daniel J. Flynn</td>\n      <td>Ever get the feeling your life circles the rou...</td>\n      <td>0</td>\n    </tr>\n    <tr>\n      <th>2</th>\n      <td>2</td>\n      <td>Why the Truth Might Get You Fired</td>\n      <td>Consortiumnews.com</td>\n      <td>Why the Truth Might Get You Fired October 29, ...</td>\n      <td>1</td>\n    </tr>\n    <tr>\n      <th>3</th>\n      <td>3</td>\n      <td>15 Civilians Killed In Single US Airstrike Hav...</td>\n      <td>Jessica Purkiss</td>\n      <td>Videos 15 Civilians Killed In Single US Airstr...</td>\n      <td>1</td>\n    </tr>\n    <tr>\n      <th>4</th>\n      <td>4</td>\n      <td>Iranian woman jailed for fictional unpublished...</td>\n      <td>Howard Portnoy</td>\n      <td>Print \\nAn Iranian woman has been sentenced to...</td>\n      <td>1</td>\n    </tr>\n    <tr>\n      <th>...</th>\n      <td>...</td>\n      <td>...</td>\n      <td>...</td>\n      <td>...</td>\n      <td>...</td>\n    </tr>\n    <tr>\n      <th>20795</th>\n      <td>20795</td>\n      <td>Rapper T.I.: Trump a ’Poster Child For White S...</td>\n      <td>Jerome Hudson</td>\n      <td>Rapper T. I. unloaded on black celebrities who...</td>\n      <td>0</td>\n    </tr>\n    <tr>\n      <th>20796</th>\n      <td>20796</td>\n      <td>N.F.L. Playoffs: Schedule, Matchups and Odds -...</td>\n      <td>Benjamin Hoffman</td>\n      <td>When the Green Bay Packers lost to the Washing...</td>\n      <td>0</td>\n    </tr>\n    <tr>\n      <th>20797</th>\n      <td>20797</td>\n      <td>Macy’s Is Said to Receive Takeover Approach by...</td>\n      <td>Michael J. de la Merced and Rachel Abrams</td>\n      <td>The Macy’s of today grew from the union of sev...</td>\n      <td>0</td>\n    </tr>\n    <tr>\n      <th>20798</th>\n      <td>20798</td>\n      <td>NATO, Russia To Hold Parallel Exercises In Bal...</td>\n      <td>Alex Ansary</td>\n      <td>NATO, Russia To Hold Parallel Exercises In Bal...</td>\n      <td>1</td>\n    </tr>\n    <tr>\n      <th>20799</th>\n      <td>20799</td>\n      <td>What Keeps the F-35 Alive</td>\n      <td>David Swanson</td>\n      <td>David Swanson is an author, activist, journa...</td>\n      <td>1</td>\n    </tr>\n  </tbody>\n</table>\n<p>20800 rows × 5 columns</p>\n</div>"
     },
     "execution_count": 4,
     "metadata": {},
     "output_type": "execute_result"
    }
   ],
   "source": [
    "df.fillna(' ')"
   ],
   "metadata": {
    "collapsed": false
   }
  },
  {
   "cell_type": "code",
   "execution_count": 5,
   "outputs": [],
   "source": [
    "df['content'] = df['author'] + ' ' + df['title']"
   ],
   "metadata": {
    "collapsed": false
   }
  },
  {
   "cell_type": "code",
   "execution_count": 6,
   "outputs": [
    {
     "data": {
      "text/plain": "0        Darrell Lucus House Dem Aide: We Didn’t Even S...\n1        Daniel J. Flynn FLYNN: Hillary Clinton, Big Wo...\n2        Consortiumnews.com Why the Truth Might Get You...\n3        Jessica Purkiss 15 Civilians Killed In Single ...\n4        Howard Portnoy Iranian woman jailed for fictio...\n                               ...                        \n20795    Jerome Hudson Rapper T.I.: Trump a ’Poster Chi...\n20796    Benjamin Hoffman N.F.L. Playoffs: Schedule, Ma...\n20797    Michael J. de la Merced and Rachel Abrams Macy...\n20798    Alex Ansary NATO, Russia To Hold Parallel Exer...\n20799              David Swanson What Keeps the F-35 Alive\nName: content, Length: 20800, dtype: object"
     },
     "execution_count": 6,
     "metadata": {},
     "output_type": "execute_result"
    }
   ],
   "source": [
    "df['content']"
   ],
   "metadata": {
    "collapsed": false
   }
  },
  {
   "cell_type": "code",
   "execution_count": 15,
   "outputs": [],
   "source": [
    "X = df.drop(columns='label', axis=1)\n",
    "Y = df.label"
   ],
   "metadata": {
    "collapsed": false
   }
  },
  {
   "cell_type": "code",
   "execution_count": 16,
   "outputs": [],
   "source": [
    "X = df['content']\n",
    "Y = df['label'].values"
   ],
   "metadata": {
    "collapsed": false
   }
  },
  {
   "cell_type": "code",
   "execution_count": 17,
   "outputs": [
    {
     "data": {
      "text/plain": "2515"
     },
     "execution_count": 17,
     "metadata": {},
     "output_type": "execute_result"
    }
   ],
   "source": [
    "X.isnull().sum()"
   ],
   "metadata": {
    "collapsed": false
   }
  },
  {
   "cell_type": "code",
   "execution_count": 18,
   "outputs": [],
   "source": [
    "X = X.fillna(' ')"
   ],
   "metadata": {
    "collapsed": false
   }
  },
  {
   "cell_type": "code",
   "execution_count": 19,
   "outputs": [],
   "source": [
    "X = X.values"
   ],
   "metadata": {
    "collapsed": false
   }
  },
  {
   "cell_type": "code",
   "execution_count": 20,
   "outputs": [],
   "source": [
    "vectorizer = TfidfVectorizer()"
   ],
   "metadata": {
    "collapsed": false
   }
  },
  {
   "cell_type": "code",
   "execution_count": 21,
   "outputs": [],
   "source": [
    "vectorizer.fit(X)\n",
    "X = vectorizer.transform(X)"
   ],
   "metadata": {
    "collapsed": false
   }
  },
  {
   "cell_type": "code",
   "execution_count": 22,
   "outputs": [
    {
     "name": "stdout",
     "output_type": "stream",
     "text": [
      "  (0, 21778)\t0.1815073237820376\n",
      "  (0, 21124)\t0.2702789788532812\n",
      "  (0, 20793)\t0.3444725998231082\n",
      "  (0, 17882)\t0.2246866205253603\n",
      "  (0, 12046)\t0.2990072566658748\n",
      "  (0, 11689)\t0.24971077104217873\n",
      "  (0, 10657)\t0.20488751270894362\n",
      "  (0, 10559)\t0.15453665306055495\n",
      "  (0, 9708)\t0.18427133691074812\n",
      "  (0, 7062)\t0.22914256323107624\n",
      "  (0, 5739)\t0.24818911212666975\n",
      "  (0, 5421)\t0.24818911212666975\n",
      "  (0, 5142)\t0.2990072566658748\n",
      "  (0, 4202)\t0.20576237430417024\n",
      "  (0, 3597)\t0.3101507937873876\n",
      "  (0, 843)\t0.2638990660507234\n",
      "  (1, 22151)\t0.30115379423155725\n",
      "  (1, 14122)\t0.1613179137611923\n",
      "  (1, 9471)\t0.19256474395011988\n",
      "  (1, 7862)\t0.7001643288235277\n",
      "  (1, 5105)\t0.26182005770192585\n",
      "  (1, 4004)\t0.19513664630807576\n",
      "  (1, 3261)\t0.37514222440000566\n",
      "  (1, 2864)\t0.15214163826848767\n",
      "  (1, 2362)\t0.292343693244767\n",
      "  :\t:\n",
      "  (20797, 10517)\t0.12650790266249798\n",
      "  (20797, 9743)\t0.20630992576636445\n",
      "  (20797, 5190)\t0.2090390876474378\n",
      "  (20797, 3159)\t0.14626936379698277\n",
      "  (20797, 2111)\t0.3170998027798729\n",
      "  (20797, 1372)\t0.2970786188328364\n",
      "  (20797, 1152)\t0.09998145136938631\n",
      "  (20797, 505)\t0.2861530832930508\n",
      "  (20798, 20323)\t0.11294792683766804\n",
      "  (20798, 17372)\t0.22239945672946546\n",
      "  (20798, 14572)\t0.42662749541285416\n",
      "  (20798, 13522)\t0.3088125110492585\n",
      "  (20798, 10055)\t0.12576444463220002\n",
      "  (20798, 9560)\t0.33667652496767764\n",
      "  (20798, 7155)\t0.42662749541285416\n",
      "  (20798, 1922)\t0.43947043690080384\n",
      "  (20798, 1233)\t0.29124605271938153\n",
      "  (20798, 942)\t0.26696017431840274\n",
      "  (20799, 21910)\t0.27218143719967247\n",
      "  (20799, 20126)\t0.1032319579412451\n",
      "  (20799, 19687)\t0.44315812085778317\n",
      "  (20799, 11026)\t0.45356383548562357\n",
      "  (20799, 5169)\t0.29843825192224444\n",
      "  (20799, 974)\t0.45077921399642495\n",
      "  (20799, 248)\t0.46998283498364773\n"
     ]
    }
   ],
   "source": [
    "print(X)"
   ],
   "metadata": {
    "collapsed": false
   }
  }
 ],
 "metadata": {
  "kernelspec": {
   "display_name": "Python 3",
   "language": "python",
   "name": "python3"
  },
  "language_info": {
   "codemirror_mode": {
    "name": "ipython",
    "version": 2
   },
   "file_extension": ".py",
   "mimetype": "text/x-python",
   "name": "python",
   "nbconvert_exporter": "python",
   "pygments_lexer": "ipython2",
   "version": "2.7.6"
  }
 },
 "nbformat": 4,
 "nbformat_minor": 0
}
